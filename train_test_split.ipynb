{
 "cells": [
  {
   "cell_type": "code",
   "execution_count": 10,
   "id": "7f25d49a-a72d-4870-be74-66cfe4a630fd",
   "metadata": {},
   "outputs": [],
   "source": [
    "import pickle\n",
    "import random"
   ]
  },
  {
   "cell_type": "code",
   "execution_count": 3,
   "id": "c12b252a-0a7c-4bec-b46f-e748e3b8bcab",
   "metadata": {},
   "outputs": [],
   "source": [
    "with open('cleaned_data.pkl', 'rb') as file:\n",
    "\tlist_of_strings = pickle.load(file)"
   ]
  },
  {
   "cell_type": "code",
   "execution_count": 4,
   "id": "8c2dd9ba-df2c-4e84-bc96-21c5dfd6e2b1",
   "metadata": {},
   "outputs": [
    {
     "data": {
      "text/plain": [
       "'Once upon a time, there was a little girl named Sue. Sue was very adventurous. She loved to play outside and explore. One day, Sue saw a big box in her room. She did not know what was inside.\\nSue\\'s mommy said, \"Sue, sit down and open the box.\" Sue sat down and opened the box. Inside, she found a beautiful uniform. It was red and blue with gold stars. Sue put on the uniform and felt very special.\\nSue wore her uniform outside to play. She met her friend Tom. Tom said, \"Wow, Sue! Your uniform is so pretty!\" Sue smiled and said, \"Thank you, Tom. Let\\'s go on an adventure!\" Together, they explored the park and had a great day. Sue knew that her special uniform made her feel even more adventurous.'"
      ]
     },
     "execution_count": 4,
     "metadata": {},
     "output_type": "execute_result"
    }
   ],
   "source": [
    "list_of_strings[0]"
   ]
  },
  {
   "cell_type": "code",
   "execution_count": 5,
   "id": "08406618-fc00-4c2a-acef-4a32d9837104",
   "metadata": {},
   "outputs": [
    {
     "data": {
      "text/plain": [
       "'Once upon a time, in a small house, lived a girl named Lily. Lily had a bow in her hair. It was a pretty bow. She liked to wear it every day.\\nOne day, Lily went outside to play. It was getting dark outside. She saw her friend, Tim. Tim said, \"Lily, it\\'s dark. Let\\'s go inside.\" Lily agreed.\\nBefore going inside, Lily removed her bow. She did not want to lose it. Tim said, \"Good job, Lily. Now we can go inside and play.\" They went inside and played until bedtime.'"
      ]
     },
     "execution_count": 5,
     "metadata": {},
     "output_type": "execute_result"
    }
   ],
   "source": [
    "list_of_strings[-1]"
   ]
  },
  {
   "cell_type": "code",
   "execution_count": 6,
   "id": "e68fa606-0072-43c2-aaff-120acf093a71",
   "metadata": {},
   "outputs": [
    {
     "data": {
      "text/plain": [
       "2732634"
      ]
     },
     "execution_count": 6,
     "metadata": {},
     "output_type": "execute_result"
    }
   ],
   "source": [
    "len(list_of_strings)"
   ]
  },
  {
   "cell_type": "code",
   "execution_count": 7,
   "id": "c3ab4abd-93da-4049-8c3f-effea06e8a0a",
   "metadata": {},
   "outputs": [
    {
     "data": {
      "text/plain": [
       "699"
      ]
     },
     "execution_count": 7,
     "metadata": {},
     "output_type": "execute_result"
    }
   ],
   "source": [
    "len(list_of_strings[0])"
   ]
  },
  {
   "cell_type": "code",
   "execution_count": 8,
   "id": "3a39fe0d-a5ec-4b39-a1b8-bec0637a2441",
   "metadata": {},
   "outputs": [
    {
     "data": {
      "text/plain": [
       "464"
      ]
     },
     "execution_count": 8,
     "metadata": {},
     "output_type": "execute_result"
    }
   ],
   "source": [
    "len(list_of_strings[-1])"
   ]
  },
  {
   "cell_type": "code",
   "execution_count": 11,
   "id": "1db2dff2-d610-4d48-86ab-eb5979d50ca5",
   "metadata": {},
   "outputs": [],
   "source": [
    "random.shuffle(list_of_strings)  # Shuffle the data before splitting\n",
    "n = int(0.9 * len(list_of_strings))  # 90% for training, 10% for validation\n",
    "train_strings = list_of_strings[:n]\n",
    "val_strings = list_of_strings[n:]"
   ]
  },
  {
   "cell_type": "code",
   "execution_count": 12,
   "id": "502588a9-617a-45fb-ba2e-832a6c5ade2c",
   "metadata": {},
   "outputs": [],
   "source": [
    "with open('tiny_stories_train_data.pkl', 'wb') as file:\n",
    "    pickle.dump(train_strings, file)\n",
    "\n",
    "with open('tiny_stories_val_data.pkl', 'wb') as file:\n",
    "    pickle.dump(val_strings, file)"
   ]
  },
  {
   "cell_type": "code",
   "execution_count": null,
   "id": "c78d0bb0-1e47-41f8-ab1e-dd7f91cb98c7",
   "metadata": {},
   "outputs": [],
   "source": []
  }
 ],
 "metadata": {
  "kernelspec": {
   "display_name": "Python 3 (ipykernel)",
   "language": "python",
   "name": "python3"
  },
  "language_info": {
   "codemirror_mode": {
    "name": "ipython",
    "version": 3
   },
   "file_extension": ".py",
   "mimetype": "text/x-python",
   "name": "python",
   "nbconvert_exporter": "python",
   "pygments_lexer": "ipython3",
   "version": "3.11.5"
  }
 },
 "nbformat": 4,
 "nbformat_minor": 5
}
